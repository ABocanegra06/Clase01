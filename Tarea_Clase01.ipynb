{
  "nbformat": 4,
  "nbformat_minor": 0,
  "metadata": {
    "colab": {
      "name": "Untitled1.ipynb",
      "provenance": [],
      "authorship_tag": "ABX9TyMFqfxbZlAXLolY4QGuGAai",
      "include_colab_link": true
    },
    "kernelspec": {
      "name": "python3",
      "display_name": "Python 3"
    }
  },
  "cells": [
    {
      "cell_type": "markdown",
      "metadata": {
        "id": "view-in-github",
        "colab_type": "text"
      },
      "source": [
        "<a href=\"https://colab.research.google.com/github/ABocanegra06/Clase01/blob/main/Tarea_Clase01.ipynb\" target=\"_parent\"><img src=\"https://colab.research.google.com/assets/colab-badge.svg\" alt=\"Open In Colab\"/></a>"
      ]
    },
    {
      "cell_type": "code",
      "metadata": {
        "id": "0HrfuL-K0zH0"
      },
      "source": [
        "espacio = \" \";\r\n",
        "print(\"¿Cual es tu primer nombre?\");\r\n",
        "nombre_1 = input();\r\n",
        "print(\"¿Cual es tu segundo nombre\");\r\n",
        "nombre_2 = input();\r\n",
        "print(\"¿Cual es tu primer apellido?\");\r\n",
        "apellido_1 = input();\r\n",
        "print(\"¿Cual es tu segundo apellido?\");\r\n",
        "apellido_2 = input();\r\n",
        "\r\n",
        "nombre_completo = nombre_1 + espacio + nombre_2 + espacio + apellido_1 + espacio + apellido_2;\r\n",
        "print(\"Mi nombre completo es: \", nombre completo);"
      ],
      "execution_count": null,
      "outputs": []
    }
  ]
}