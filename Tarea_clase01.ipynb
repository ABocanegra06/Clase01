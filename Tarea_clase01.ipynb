{
  "nbformat": 4,
  "nbformat_minor": 0,
  "metadata": {
    "colab": {
      "name": "Copia de Copia de Tarea_clase01.ipynb",
      "provenance": [],
      "collapsed_sections": [],
      "authorship_tag": "ABX9TyPCqBNtCORnGPGDyfuBd4r1",
      "include_colab_link": true
    },
    "kernelspec": {
      "display_name": "Python 3",
      "name": "python3"
    }
  },
  "cells": [
    {
      "cell_type": "markdown",
      "metadata": {
        "id": "view-in-github",
        "colab_type": "text"
      },
      "source": [
        "<a href=\"https://colab.research.google.com/github/ABocanegra06/Clase01/blob/main/Tarea_clase01.ipynb\" target=\"_parent\"><img src=\"https://colab.research.google.com/assets/colab-badge.svg\" alt=\"Open In Colab\"/></a>"
      ]
    },
    {
      "cell_type": "code",
      "metadata": {
        "id": "YVTO8qXkX3TD",
        "colab": {
          "base_uri": "https://localhost:8080/",
          "height": 131
        },
        "outputId": "bbb9d505-16c5-42bb-e8fd-3fd25ccedba3"
      },
      "source": [
        "print(\"¿Cual es tu primer nombre?\");\r\n",
        "nombre_1 = input();\r\n",
        "print(\"¿Cual es tu segundo nombre\");\r\n",
        "nombre_2 = input();\r\n",
        "print(\"¿Cual es tu primer apellido?\");\r\n",
        "apellido_1 = input();\r\n",
        "print(\"¿Cual es tu segundo apellido?\");\r\n",
        "apellido_2 = input();\r\n",
        "\r\n",
        "nombre_completo = nombre_1 + nombre_2 + apellido_1 + apellido_2;\r\n",
        "print(nombre_completo);"
      ],
      "execution_count": null,
      "outputs": [
        {
          "output_type": "error",
          "ename": "SyntaxError",
          "evalue": "ignored",
          "traceback": [
            "\u001b[0;36m  File \u001b[0;32m\"<ipython-input-4-3ad38b1e4f1d>\"\u001b[0;36m, line \u001b[0;32m5\u001b[0m\n\u001b[0;31m    print(\"¿Cual es tu primer apellido?);\u001b[0m\n\u001b[0m                                         ^\u001b[0m\n\u001b[0;31mSyntaxError\u001b[0m\u001b[0;31m:\u001b[0m EOL while scanning string literal\n"
          ]
        }
      ]
    }
  ]
}