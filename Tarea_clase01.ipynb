{
  "nbformat": 4,
  "nbformat_minor": 0,
  "metadata": {
    "colab": {
      "name": "Untitled0.ipynb",
      "provenance": [],
      "authorship_tag": "ABX9TyPUx2AZ3F20ICsvut4lmeQc",
      "include_colab_link": true
    },
    "kernelspec": {
      "name": "python3",
      "display_name": "Python 3"
    }
  },
  "cells": [
    {
      "cell_type": "markdown",
      "metadata": {
        "id": "view-in-github",
        "colab_type": "text"
      },
      "source": [
        "<a href=\"https://colab.research.google.com/github/ABocanegra06/Clase01/blob/main/Tarea_clase01.ipynb\" target=\"_parent\"><img src=\"https://colab.research.google.com/assets/colab-badge.svg\" alt=\"Open In Colab\"/></a>"
      ]
    },
    {
      "cell_type": "code",
      "metadata": {
        "colab": {
          "base_uri": "https://localhost:8080/",
          "height": 131
        },
        "id": "ouFFF7VezMhy",
        "outputId": "42656db9-5507-4753-c7bd-56703da126e8"
      },
      "source": [
        "print(\"¿Cual es tu primer nombre?\");\r\n",
        "nombre_1 = input();\r\n",
        "print(\"¿Cual es tu segundo nombre\");\r\n",
        "nombre_2 = input();\r\n",
        "print(\"¿Cual es tu primer apellido?\");\r\n",
        "apellido_1 = input();\r\n",
        "print(\"¿Cual es tu segundo apellido?\");\r\n",
        "apellido_2 = input();\r\n",
        "\r\n",
        "print(\"Mi nombre completo es: \",nombre completo);\r\n",
        "nombre_completo = nombre_1 + space + nombre_2 + space + apellido_1 + space + apellido_2;\r\n",
        "print(nombre_completo);"
      ],
      "execution_count": 2,
      "outputs": [
        {
          "output_type": "error",
          "ename": "SyntaxError",
          "evalue": "ignored",
          "traceback": [
            "\u001b[0;36m  File \u001b[0;32m\"<ipython-input-2-956964b42eb0>\"\u001b[0;36m, line \u001b[0;32m10\u001b[0m\n\u001b[0;31m    print(\"Mi nombre completo es: \",nombre completo);\u001b[0m\n\u001b[0m                                                  ^\u001b[0m\n\u001b[0;31mSyntaxError\u001b[0m\u001b[0;31m:\u001b[0m invalid syntax\n"
          ]
        }
      ]
    }
  ]
}